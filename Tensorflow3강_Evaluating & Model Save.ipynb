{
 "cells": [
  {
   "cell_type": "markdown",
   "metadata": {},
   "source": [
    "### **Tensorflow3강 Evaluating&Model Save**\n",
    "설계한 model의 성능을 평가하고, label값과 비교한다.\n",
    "설계한 model의 학습된 weight와 bias값을 파일 형태로 저장한다."
   ]
  },
  {
   "cell_type": "markdown",
   "metadata": {},
   "source": [
    "### **check point**\n",
    "weight값과 model의 구성을 알고 있으면, 어떤 input이 들어왔을 때 prediction을 할 수 있다.  \n",
    "물론! model의 형태가 다르면 안된다.  \n",
    "\n",
    "test model : gradient-decent, loss 등 train에 관한 모든 logic이 제거가 된 model  \n",
    "test model에 train된 weight를 대입시키려면 **check point**라는 파일을 만들어 weight 정보를 쓴다.\n",
    "test model에서 파일의 weight를 읽어와서 결과를 도출한다."
   ]
  },
  {
   "cell_type": "code",
   "execution_count": 1,
   "metadata": {},
   "outputs": [],
   "source": [
    "import tensorflow as tf"
   ]
  },
  {
   "cell_type": "code",
   "execution_count": 2,
   "metadata": {},
   "outputs": [],
   "source": [
    "input_data = [[1, 5, 3, 7, 8, 10, 12],\n",
    "              [5, 8, 10, 3, 9, 7, 1]]\n",
    "label_data = [[0, 0, 0, 1, 0],\n",
    "              [1, 0, 0, 0, 0]]"
   ]
  },
  {
   "cell_type": "code",
   "execution_count": 3,
   "metadata": {},
   "outputs": [],
   "source": [
    "INPUT_SIZE = 7\n",
    "HIDDEN1_SIZE = 10\n",
    "HIDDEN2_SIZE = 8\n",
    "CLASSES = 5\n",
    "Learning_Rate = 0.5"
   ]
  },
  {
   "cell_type": "code",
   "execution_count": 4,
   "metadata": {},
   "outputs": [],
   "source": [
    "x = tf.placeholder( tf.float32, shape=[None, INPUT_SIZE], name='x')\n",
    "y_ = tf.placeholder( tf.float32, shape=[None, CLASSES], name='y_')"
   ]
  },
  {
   "cell_type": "code",
   "execution_count": 5,
   "metadata": {},
   "outputs": [],
   "source": [
    "tensor_map = {x:input_data, y_:label_data}"
   ]
  },
  {
   "cell_type": "code",
   "execution_count": 6,
   "metadata": {},
   "outputs": [],
   "source": [
    "# weight\n",
    "w_h1 = tf.Variable(tf.truncated_normal(shape=[INPUT_SIZE, HIDDEN1_SIZE]), name='w_h1')\n",
    "b_h1 = tf.Variable(tf.zeros([HIDDEN1_SIZE]), dtype=tf.float32, name='b_h1')\n",
    "\n",
    "w_h2 = tf.Variable(tf.truncated_normal(shape=[HIDDEN1_SIZE, HIDDEN2_SIZE]), name='w_h2')\n",
    "b_h2 = tf.Variable(tf.zeros([HIDDEN2_SIZE]), dtype=tf.float32, name='b_h2')\n",
    "\n",
    "w_o = tf.Variable(tf.truncated_normal(shape=[HIDDEN2_SIZE, CLASSES]), name='w_o')\n",
    "b_o = tf.Variable(tf.zeros([CLASSES]), dtype=tf.float32, name='b_o')"
   ]
  },
  {
   "cell_type": "code",
   "execution_count": 7,
   "metadata": {},
   "outputs": [],
   "source": [
    "param_list = [w_h1, b_h1, w_h2, b_h2, w_o, b_o]\n",
    "saver = tf.train.Saver(param_list)"
   ]
  },
  {
   "cell_type": "markdown",
   "metadata": {},
   "source": [
    "variable이 끝난 시점에서 saver (그 이상으로 해버리면 모든 variable이 다 들어간다.)"
   ]
  },
  {
   "cell_type": "code",
   "execution_count": 8,
   "metadata": {},
   "outputs": [],
   "source": [
    "# model\n",
    "hidden1 = tf.sigmoid(tf.matmul(x, w_h1) + b_h1, name='hidden1')\n",
    "hidden2 = tf.sigmoid(tf.matmul(hidden1, w_h2) + b_h2, name='hieen2')\n",
    "y = tf.sigmoid(tf.matmul(hidden2, w_o) + b_o, name='y')"
   ]
  },
  {
   "cell_type": "code",
   "execution_count": 9,
   "metadata": {},
   "outputs": [],
   "source": [
    "cost = tf.reduce_mean(tf.reduce_sum(-y_*tf.log(y)-(1-y_)*tf.log(1-y), reduction_indices=1))\n",
    "train = tf.train.GradientDescentOptimizer(Learning_Rate).minimize(cost)"
   ]
  },
  {
   "cell_type": "markdown",
   "metadata": {},
   "source": [
    "### **tf.reduce_sum**\n",
    "![ex3_1](./image/3_1.png)"
   ]
  },
  {
   "cell_type": "code",
   "execution_count": 10,
   "metadata": {},
   "outputs": [],
   "source": [
    "# insert line - 성능평가\n",
    "accuray = tf.reduce_mean(tf.cast(tf.equal(tf.argmax(y, 1), tf.argmax(y_, 1)), tf.float32))"
   ]
  },
  {
   "cell_type": "markdown",
   "metadata": {},
   "source": [
    "equal의 결과가 bool형 이므로 cast가 필요하다.  \n",
    "\n",
    "보통 print할 때, save한다.\n",
    "![ex3_2](./image/3_2.png)\n",
    "저장할 때, 이름으로 저장한다.  \n",
    "그래서 name을 parameter마다 지정해 줘야 나중에 데이터 가져올 때 이상이 없다."
   ]
  },
  {
   "cell_type": "code",
   "execution_count": 11,
   "metadata": {},
   "outputs": [],
   "source": [
    "sess = tf.Session()"
   ]
  },
  {
   "cell_type": "code",
   "execution_count": 12,
   "metadata": {},
   "outputs": [
    {
     "name": "stdout",
     "output_type": "stream",
     "text": [
      "----------------------------\n",
      "step :  0\n",
      "loss :  2.9190667\n",
      "accuarcy :  0.0\n",
      "result :  [[0.4410853  0.5265158  0.4416273  0.2846872  0.09421104]\n",
      " [0.449956   0.5422097  0.51515424 0.14108446 0.10839973]]\n",
      "----------------------------\n",
      "step :  10\n",
      "loss :  0.8125979\n",
      "accuarcy :  1.0\n",
      "result :  [[0.275751   0.08091093 0.03795361 0.71373224 0.05687724]\n",
      " [0.7084259  0.0354194  0.04556982 0.27659822 0.03197912]]\n",
      "----------------------------\n",
      "step :  20\n",
      "loss :  0.47230166\n",
      "accuarcy :  1.0\n",
      "result :  [[0.17300154 0.0482968  0.02247761 0.81070226 0.0349617 ]\n",
      " [0.83011454 0.01716439 0.02646399 0.17155929 0.01826849]]\n",
      "----------------------------\n",
      "step :  30\n",
      "loss :  0.30851692\n",
      "accuarcy :  1.0\n",
      "result :  [[0.11758213 0.03277746 0.01612057 0.8694012  0.02426067]\n",
      " [0.89036816 0.01100378 0.01887351 0.11182322 0.01294737]]\n",
      "----------------------------\n",
      "step :  40\n",
      "loss :  0.220801\n",
      "accuarcy :  1.0\n",
      "result :  [[0.08579205 0.02403701 0.01242974 0.90442306 0.01824321]\n",
      " [0.9222202  0.00798652 0.01451566 0.07915518 0.0100701 ]]\n",
      "----------------------------\n",
      "step :  50\n",
      "loss :  0.16877034\n",
      "accuarcy :  1.0\n",
      "result :  [[0.06614786 0.01866218 0.01004281 0.92627823 0.01446585]\n",
      " [0.94083613 0.00621015 0.01167032 0.05996349 0.0081943 ]]\n",
      "----------------------------\n",
      "step :  60\n",
      "loss :  0.13518198\n",
      "accuarcy :  1.0\n",
      "result :  [[0.0531572  0.01509995 0.00838765 0.94073653 0.01191008]\n",
      " [0.95272225 0.00504737 0.00968137 0.04774747 0.00686067]]\n",
      "----------------------------\n",
      "step :  70\n",
      "loss :  0.11202079\n",
      "accuarcy :  1.0\n",
      "result :  [[0.04407041 0.01259644 0.00717932 0.95083    0.01008348]\n",
      " [0.9608608  0.00423244 0.00822509 0.03942522 0.00586717]]\n",
      "----------------------------\n",
      "step :  80\n",
      "loss :  0.09521657\n",
      "accuarcy :  1.0\n",
      "result :  [[0.03742111 0.01075483 0.00626165 0.95820034 0.00872156]\n",
      " [0.966741   0.00363282 0.00712027 0.03344346 0.00510285]]\n",
      "----------------------------\n",
      "step :  90\n",
      "loss :  0.082531214\n",
      "accuarcy :  1.0\n",
      "result :  [[0.0323764  0.00935049 0.00554274 0.96378297 0.00767117]\n",
      " [0.97117054 0.00317501 0.00625777 0.02895974 0.00449958]]\n"
     ]
    }
   ],
   "source": [
    "init = tf.global_variables_initializer()\n",
    "sess.run(init)\n",
    "\n",
    "for i in range(100):\n",
    "    _, loss, acc, result = sess.run([train, cost, accuray, y], tensor_map)\n",
    "    \n",
    "    if i % 10 == 0:\n",
    "        saver.save(sess, \"./checkpoint/my_model.ckpt\")\n",
    "        print(\"----------------------------\")\n",
    "        print(\"step : \", i)\n",
    "        print(\"loss : \", loss)\n",
    "        print(\"accuarcy : \", acc)\n",
    "        print(\"result : \", result)\n",
    "\n",
    "sess.close()"
   ]
  }
 ],
 "metadata": {
  "kernelspec": {
   "display_name": "tensorflow",
   "language": "python3",
   "name": "tensorflow"
  },
  "language_info": {
   "codemirror_mode": {
    "name": "ipython",
    "version": 3
   },
   "file_extension": ".py",
   "mimetype": "text/x-python",
   "name": "python",
   "nbconvert_exporter": "python",
   "pygments_lexer": "ipython3",
   "version": "3.5.2"
  }
 },
 "nbformat": 4,
 "nbformat_minor": 2
}
