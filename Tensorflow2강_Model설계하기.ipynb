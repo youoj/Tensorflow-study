{
 "cells": [
  {
   "cell_type": "markdown",
   "metadata": {},
   "source": [
    "### **Tensorflow2강 Model설계하기**\n",
    "간단한 model을 설계한다."
   ]
  },
  {
   "cell_type": "code",
   "execution_count": 1,
   "metadata": {},
   "outputs": [],
   "source": [
    "import tensorflow as tf"
   ]
  },
  {
   "cell_type": "code",
   "execution_count": 2,
   "metadata": {},
   "outputs": [],
   "source": [
    "input_data = [[1, 5, 3, 7, 8, 10, 12],\n",
    "              [5, 8, 10, 3, 9, 7, 1]]\n",
    "label_data = [[0, 0, 0, 1, 0],\n",
    "              [1, 0, 0, 0, 0]]"
   ]
  },
  {
   "cell_type": "code",
   "execution_count": 3,
   "metadata": {},
   "outputs": [],
   "source": [
    "INPUT_SIZE = 7\n",
    "HIDDEN1_SIZE = 10\n",
    "HIDDEN2_SIZE = 8\n",
    "CLASSES = 5\n",
    "Learning_Rate = 0.5"
   ]
  },
  {
   "cell_type": "code",
   "execution_count": 4,
   "metadata": {},
   "outputs": [],
   "source": [
    "x = tf.placeholder( tf.float32, shape=[None, INPUT_SIZE])\n",
    "y_ = tf.placeholder( tf.float32, shape=[None, CLASSES])"
   ]
  },
  {
   "cell_type": "code",
   "execution_count": 5,
   "metadata": {},
   "outputs": [],
   "source": [
    "tensor_map = {x:input_data, y_:label_data}"
   ]
  },
  {
   "cell_type": "markdown",
   "metadata": {},
   "source": [
    "shape의 첫번째 dimension에는 배치의 사이즈가 들어간다.  \n",
    "if, 1차원 데이터 input vector가 100개가 있다. -> [100, 7]  \n",
    "but, 일반적으로 배치의 정보를 모르므로 None으로 놓는다.\n",
    "\n",
    "y_ : label data를 의미"
   ]
  },
  {
   "cell_type": "code",
   "execution_count": 6,
   "metadata": {},
   "outputs": [],
   "source": [
    "w_h1 = tf.Variable(tf.truncated_normal(shape=[INPUT_SIZE, HIDDEN1_SIZE]))\n",
    "b_h1 = tf.Variable(tf.zeros([HIDDEN1_SIZE]), dtype=tf.float32)\n",
    "# hidden1 = tf.matmul(x, w_h1) + b_h1\n",
    "\n",
    "w_h2 = tf.Variable(tf.truncated_normal(shape=[HIDDEN1_SIZE, HIDDEN2_SIZE]))\n",
    "b_h2 = tf.Variable(tf.zeros([HIDDEN2_SIZE]), dtype=tf.float32)\n",
    "# hidden2 = tf.matmul(hidden1, w_h2) + b_h2\n",
    "\n",
    "w_o = tf.Variable(tf.truncated_normal(shape=[HIDDEN2_SIZE, CLASSES]))\n",
    "b_o = tf.Variable(tf.zeros([CLASSES]), dtype=tf.float32)\n",
    "# y = tf.matmul(hidden2, w_o) + b_o"
   ]
  },
  {
   "cell_type": "code",
   "execution_count": 7,
   "metadata": {},
   "outputs": [],
   "source": [
    "hidden1 = tf.sigmoid(tf.matmul(x, w_h1) + b_h1)\n",
    "hidden2 = tf.sigmoid(tf.matmul(hidden1, w_h2) + b_h2)\n",
    "y = tf.sigmoid(tf.matmul(hidden2, w_o) + b_o)"
   ]
  },
  {
   "cell_type": "markdown",
   "metadata": {},
   "source": [
    "가독성을 높이기 위한 방법!\n",
    "### **Graph**\n",
    "![ex2_1](./image/2_1.png)\n",
    "\n",
    "### **cost function**\n",
    "logistic 문제(ont-hot encoding)에서는 cross-entropy(log함수로 이루어진 함수)를 사용하는 것이 맞다.  \n",
    "softmax는 cost function이 아니고 cost function을 내기 위한 prediction을 만드는 것."
   ]
  },
  {
   "cell_type": "code",
   "execution_count": 8,
   "metadata": {},
   "outputs": [],
   "source": [
    "cost = tf.reduce_mean(-y_*tf.log(y)-(1-y_)*tf.log(1-y))   # 오차들이 들어있다 ex) [[2.6, 0.2, 0.5, 0.5, 1.1], [0.1, 0.3, 0.3, 1.1, 1.7]]\n",
    "                                                          # 오차들의 평균을 구한다.\n",
    "train = tf.train.GradientDescentOptimizer(Learning_Rate).minimize(cost)  # 오차를 최소화 하는 방향으로 최적화 시킨다."
   ]
  },
  {
   "cell_type": "code",
   "execution_count": 9,
   "metadata": {},
   "outputs": [
    {
     "name": "stdout",
     "output_type": "stream",
     "text": [
      "Step :  0 0.8106144\n",
      "Step :  1 0.66369516\n",
      "Step :  2 0.60285586\n",
      "Step :  3 0.5568225\n",
      "Step :  4 0.5208577\n",
      "Step :  5 0.49209386\n",
      "Step :  6 0.46865416\n",
      "Step :  7 0.44925922\n",
      "Step :  8 0.43300542\n",
      "Step :  9 0.41923532\n"
     ]
    }
   ],
   "source": [
    "sess = tf.Session()\n",
    "init = tf.global_variables_initializer()\n",
    "sess.run(init)\n",
    "\n",
    "for i in range(10):\n",
    "    #sess.run(train, tensor_map)\n",
    "    _, loss = sess.run([train, cost], tensor_map) # cost도 확인하고 싶다면\n",
    "    print(\"Step : \", i, loss)\n",
    "\n",
    "sess.close()"
   ]
  },
  {
   "cell_type": "code",
   "execution_count": null,
   "metadata": {},
   "outputs": [],
   "source": []
  }
 ],
 "metadata": {
  "kernelspec": {
   "display_name": "tensorflow",
   "language": "python3",
   "name": "tensorflow"
  },
  "language_info": {
   "codemirror_mode": {
    "name": "ipython",
    "version": 3
   },
   "file_extension": ".py",
   "mimetype": "text/x-python",
   "name": "python",
   "nbconvert_exporter": "python",
   "pygments_lexer": "ipython3",
   "version": "3.5.2"
  }
 },
 "nbformat": 4,
 "nbformat_minor": 2
}
