{
 "cells": [
  {
   "cell_type": "markdown",
   "metadata": {},
   "source": [
    "### **Tensorflow5강 Tensorboard활용**\n",
    "\n",
    "**with**  \n",
    "file IO시에 file open, file process, file close 단계를 거치게 되는데 파일을 열게되면 어차피 닫을껀데 한번에 할수는 없을까?  \n",
    "`f = open(\"file_name\", \"rw)` 를 다음과 같이 작성한다.   \n",
    "\n",
    "`with open(\"file_name\", \"rw\") as f:   \n",
    "    ...file processing....`   \n",
    "with문을 탈출하면 file이 자동으로 닫힌다.  \n",
    "물론! Session도 file이므로 with문을 사용한다."
   ]
  },
  {
   "cell_type": "code",
   "execution_count": 1,
   "metadata": {
    "scrolled": true
   },
   "outputs": [],
   "source": [
    "import tensorflow as tf"
   ]
  },
  {
   "cell_type": "code",
   "execution_count": 2,
   "metadata": {},
   "outputs": [],
   "source": [
    "input_data = [[1, 5, 3, 7, 8, 10, 12],\n",
    "              [5, 8, 10, 3, 9, 7, 1]]\n",
    "label_data = [[0, 0, 0, 1, 0],\n",
    "              [1, 0, 0, 0, 0]]"
   ]
  },
  {
   "cell_type": "code",
   "execution_count": 3,
   "metadata": {},
   "outputs": [],
   "source": [
    "INPUT_SIZE = 7\n",
    "HIDDEN1_SIZE = 10\n",
    "HIDDEN2_SIZE = 8\n",
    "CLASSES = 5\n",
    "Learning_Rate = 0.5"
   ]
  },
  {
   "cell_type": "code",
   "execution_count": 4,
   "metadata": {},
   "outputs": [],
   "source": [
    "x = tf.placeholder( tf.float32, shape=[None, INPUT_SIZE], name='x')\n",
    "y_ = tf.placeholder( tf.float32, shape=[None, CLASSES], name='y_')"
   ]
  },
  {
   "cell_type": "code",
   "execution_count": 5,
   "metadata": {},
   "outputs": [],
   "source": [
    "tensor_map = {x:input_data, y_:label_data}"
   ]
  },
  {
   "cell_type": "code",
   "execution_count": 6,
   "metadata": {},
   "outputs": [],
   "source": [
    "w_h1 = tf.Variable(tf.truncated_normal(shape=[INPUT_SIZE, HIDDEN1_SIZE]), name='w_h1')\n",
    "b_h1 = tf.Variable(tf.zeros([HIDDEN1_SIZE]), dtype=tf.float32, name='b_h1')\n",
    "\n",
    "w_h2 = tf.Variable(tf.truncated_normal(shape=[HIDDEN1_SIZE, HIDDEN2_SIZE]), name='w_h2')\n",
    "b_h2 = tf.Variable(tf.zeros([HIDDEN2_SIZE]), dtype=tf.float32, name='b_h2')\n",
    "\n",
    "w_o = tf.Variable(tf.truncated_normal(shape=[HIDDEN2_SIZE, CLASSES]), name='w_o')\n",
    "b_o = tf.Variable(tf.zeros([CLASSES]), dtype=tf.float32, name='b_o')\n",
    "\n",
    "param_list = [w_h1, b_h1, w_h2, b_h2, w_o, b_o]\n",
    "saver = tf.train.Saver(param_list)"
   ]
  },
  {
   "cell_type": "markdown",
   "metadata": {},
   "source": [
    "**tensorboard**  \n",
    "데이터마다 scope을 만들고 여러 개의 scope을 summary한다.  \n",
    "summary : log를 모은다."
   ]
  },
  {
   "cell_type": "code",
   "execution_count": 7,
   "metadata": {},
   "outputs": [],
   "source": [
    "with tf.name_scope('hidden_layer_1') as h1scope:\n",
    "    hidden1 = tf.sigmoid(tf.matmul(x, w_h1) + b_h1, name='hidden1')\n",
    "\n",
    "with tf.name_scope('hidden_layer_2') as h2scope:\n",
    "    hidden2 = tf.sigmoid(tf.matmul(hidden1, w_h2) + b_h2, name='hieen2')\n",
    "\n",
    "with tf.name_scope('output_layer') as oscope:\n",
    "    y = tf.sigmoid(tf.matmul(hidden2, w_o) + b_o, name='y')"
   ]
  },
  {
   "cell_type": "code",
   "execution_count": 8,
   "metadata": {},
   "outputs": [
    {
     "name": "stdout",
     "output_type": "stream",
     "text": [
      "INFO:tensorflow:Restoring parameters from ./checkpoint/my_model.ckpt\n",
      "[[7.9868576e-03 2.4954930e-03 1.7021123e-03 9.9062294e-01 2.2660163e-03]\n",
      " [9.9277025e-01 9.1617665e-04 1.7812990e-03 7.6251635e-03 1.2241098e-03]]\n"
     ]
    }
   ],
   "source": [
    "with tf.Session() as sess:\n",
    "    saver.restore(sess, \"./checkpoint/my_model.ckpt\")\n",
    "    \n",
    "    merge = tf.summary.merge_all()\n",
    "    train_writer = tf.summary.FileWriter('./summaries/', sess.graph)\n",
    "    \n",
    "    result = sess.run(y, tensor_map)\n",
    "    print(result)"
   ]
  },
  {
   "cell_type": "markdown",
   "metadata": {},
   "source": [
    "....난 실패...."
   ]
  }
 ],
 "metadata": {
  "kernelspec": {
   "display_name": "tensorflow",
   "language": "python3",
   "name": "tensorflow"
  },
  "language_info": {
   "codemirror_mode": {
    "name": "ipython",
    "version": 3
   },
   "file_extension": ".py",
   "mimetype": "text/x-python",
   "name": "python",
   "nbconvert_exporter": "python",
   "pygments_lexer": "ipython3",
   "version": "3.5.2"
  }
 },
 "nbformat": 4,
 "nbformat_minor": 2
}
