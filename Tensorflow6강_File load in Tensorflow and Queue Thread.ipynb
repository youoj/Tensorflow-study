{
 "cells": [
  {
   "cell_type": "markdown",
   "metadata": {},
   "source": [
    "### **Tensorflow6강 File load in Tensorflow and Queue Thread**\n",
    "class마다 data양을 비슷하게 하면 좋다.\n",
    "\n",
    "**Image file 두 종류**\n",
    "![ex6_1](./image/6_1.png)\n",
    "- **csv file read**   \n",
    "file name등을 queue에 삽입하고 필요할 때 꺼내쓴다.\n",
    "- **binary file recode**"
   ]
  },
  {
   "cell_type": "code",
   "execution_count": 1,
   "metadata": {},
   "outputs": [],
   "source": [
    "import tensorflow as tf"
   ]
  },
  {
   "cell_type": "code",
   "execution_count": 2,
   "metadata": {},
   "outputs": [],
   "source": [
    "filename_queue = tf.train.string_input_producer(['./test_image/test.csv'])"
   ]
  },
  {
   "cell_type": "code",
   "execution_count": 3,
   "metadata": {},
   "outputs": [],
   "source": [
    "reader = tf.TextLineReader()\n",
    "key, value = reader.read(filename_queue)"
   ]
  },
  {
   "cell_type": "code",
   "execution_count": 4,
   "metadata": {},
   "outputs": [],
   "source": [
    "record_defaults = [[1], [1], [1], [1], [1], [1], [1], [1], [1]]\n",
    "col1, col2, col3, col4, col5, col6, col7, col8, col9 = tf.decode_csv(value, record_defaults)"
   ]
  },
  {
   "cell_type": "markdown",
   "metadata": {},
   "source": [
    "**cordinator**  \n",
    "cordinator는 thread를 계속 감지한다.  \n",
    "thread를 관리해주는 녀석이라고 생각하면 됨."
   ]
  },
  {
   "cell_type": "code",
   "execution_count": 5,
   "metadata": {},
   "outputs": [
    {
     "name": "stdout",
     "output_type": "stream",
     "text": [
      "label :  90\n",
      "value :  [10, 20, 30, 40, 50, 60, 70, 80, 90]\n",
      "label :  9\n",
      "value :  [1, 2, 3, 4, 5, 6, 7, 8, 9]\n",
      "label :  18\n",
      "value :  [2, 4, 6, 8, 10, 12, 14, 16, 18]\n"
     ]
    }
   ],
   "source": [
    "with tf.Session() as sess:\n",
    "    coord = tf.train.Coordinator()\n",
    "    threads = tf.train.start_queue_runners(sess=sess, coord=coord)\n",
    "    \n",
    "    for i in range(3):\n",
    "        example, label = sess.run([[col1, col2, col3, col4, col5, col6, col7, col8, col9], col9])\n",
    "        print('label : ', label)\n",
    "        print('value : ', example)\n",
    "        \n",
    "    coord.request_stop()\n",
    "    coord.join(threads)   "
   ]
  },
  {
   "cell_type": "markdown",
   "metadata": {},
   "source": [
    "**image file loading**  \n",
    "gif, png, JPG, JPEG 만 지원하기 때문에 이미지를 변환해햐한다\n",
    "\n",
    "**지금 우리가 하는 방법**  \n",
    "![ex6_2](./image/6_2.png)\n",
    "\n",
    "**실제 model을 구성하는 방법**\n",
    "![ex6_3](./image/6_3.png)\n",
    "실제로는 여러개의 image file과 label text file을 하나의 recode file로 만든다"
   ]
  },
  {
   "cell_type": "code",
   "execution_count": 6,
   "metadata": {},
   "outputs": [],
   "source": [
    "import tensorflow as tf\n",
    "import os\n",
    "from PIL import Image  # image 출력을 위한 library"
   ]
  },
  {
   "cell_type": "code",
   "execution_count": 7,
   "metadata": {},
   "outputs": [],
   "source": [
    "image_dir = os.getcwd() + \"/test_image/jooseok.JPG\"\n",
    "filename_list = [image_dir]\n",
    "\n",
    "filename_queue = tf.train.string_input_producer(filename_list)"
   ]
  },
  {
   "cell_type": "code",
   "execution_count": 8,
   "metadata": {},
   "outputs": [],
   "source": [
    "reader = tf.WholeFileReader()"
   ]
  },
  {
   "cell_type": "code",
   "execution_count": 9,
   "metadata": {},
   "outputs": [],
   "source": [
    "key, value = reader.read(filename_queue)"
   ]
  },
  {
   "cell_type": "code",
   "execution_count": 10,
   "metadata": {},
   "outputs": [],
   "source": [
    "image_decoded = tf.image.decode_jpeg(value)  # 자료형: tensor"
   ]
  },
  {
   "cell_type": "code",
   "execution_count": 11,
   "metadata": {},
   "outputs": [],
   "source": [
    "with tf.Session() as sess:\n",
    "    coord = tf.train.Coordinator()\n",
    "    threads = tf.train.start_queue_runners(sess=sess, coord=coord)\n",
    "    \n",
    "    image = sess.run(image_decoded)\n",
    "    \n",
    "    Image.fromarray(image).show()\n",
    "    \n",
    "    coord.request_stop()\n",
    "    coord.join(threads)"
   ]
  }
 ],
 "metadata": {
  "kernelspec": {
   "display_name": "tensorflow",
   "language": "python3",
   "name": "tensorflow"
  },
  "language_info": {
   "codemirror_mode": {
    "name": "ipython",
    "version": 3
   },
   "file_extension": ".py",
   "mimetype": "text/x-python",
   "name": "python",
   "nbconvert_exporter": "python",
   "pygments_lexer": "ipython3",
   "version": "3.5.2"
  }
 },
 "nbformat": 4,
 "nbformat_minor": 2
}
