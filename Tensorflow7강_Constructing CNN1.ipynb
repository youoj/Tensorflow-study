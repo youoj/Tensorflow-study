{
 "cells": [
  {
   "cell_type": "markdown",
   "metadata": {},
   "source": [
    "### **Tensorflow7강 Constructing CNN1**"
   ]
  },
  {
   "cell_type": "code",
   "execution_count": 1,
   "metadata": {},
   "outputs": [],
   "source": [
    "import tensorflow as tf\n",
    "import os\n",
    "from PIL import Image  # image 출력을 위한 library"
   ]
  },
  {
   "cell_type": "code",
   "execution_count": 2,
   "metadata": {},
   "outputs": [],
   "source": [
    "image_dir = os.getcwd() + \"/test_image/jooseok_gray.png\"\n",
    "filename_list = [image_dir]\n",
    "\n",
    "filename_queue = tf.train.string_input_producer(filename_list)\n",
    "\n",
    "reader = tf.WholeFileReader()\n",
    "key, value = reader.read(filename_queue)\n",
    "\n",
    "image = tf.image.decode_jpeg(value)  # 자료형: tensor\n",
    "x = tf.cast(image, tf.float32)"
   ]
  },
  {
   "cell_type": "code",
   "execution_count": 3,
   "metadata": {},
   "outputs": [],
   "source": [
    "image_width = 400\n",
    "image_height = 400"
   ]
  },
  {
   "cell_type": "code",
   "execution_count": 4,
   "metadata": {},
   "outputs": [],
   "source": [
    "#x = tf.placeholder(tf.float32, shape=[None, image_width, image_height])\n",
    "y_ = tf.placeholder(tf.float32, shape=[None, 1])"
   ]
  },
  {
   "cell_type": "code",
   "execution_count": 5,
   "metadata": {},
   "outputs": [],
   "source": [
    "# hidden1 convolution\n",
    "W_hidden1 = tf.Variable(tf.truncated_normal([5, 5, 1, 32]))  # width, height, depth, batch\n",
    "b_hidden1 = tf.Variable(tf.zeros([32]))\n",
    "\n",
    "x_image = tf.reshape(x, [-1, image_width, image_height, 1])  # reshape를 해주어야 dimension오류가 없다.\n",
    "\n",
    "conv1 = tf.nn.conv2d(x_image, W_hidden1, strides=[1, 1, 1, 1], padding=\"SAME\")\n",
    "hidden1 = tf.nn.relu(conv1 + b_hidden1)"
   ]
  },
  {
   "cell_type": "markdown",
   "metadata": {},
   "source": [
    "**reshape error**  \n",
    "![ex7_1](./image/7_1.png)"
   ]
  },
  {
   "cell_type": "markdown",
   "metadata": {},
   "source": [
    "**output**\n",
    "![ex7_2](./image/7_2.png)"
   ]
  },
  {
   "cell_type": "code",
   "execution_count": 6,
   "metadata": {},
   "outputs": [],
   "source": [
    "# hidden2 convolution\n",
    "W_hidden2 = tf.Variable(tf.truncated_normal([5, 5, 32, 64]))\n",
    "b_hidden2 = tf.Variable(tf.zeros([64]))\n",
    "\n",
    "conv2 = tf.nn.conv2d(hidden1, W_hidden2, strides=[1, 1, 1, 1], padding=\"SAME\")\n",
    "hidden2 = tf.nn.relu(conv2 + b_hidden2)"
   ]
  },
  {
   "cell_type": "markdown",
   "metadata": {},
   "source": [
    "**output**\n",
    "![ex7_3](./image/7_3.png)"
   ]
  },
  {
   "cell_type": "code",
   "execution_count": 7,
   "metadata": {},
   "outputs": [],
   "source": [
    "# fully connected layer\n",
    "h_flat = tf.reshape(hidden2, [-1, image_width * image_height * 64])\n",
    "fc_w = tf.Variable(tf.truncated_normal([image_width * image_height * 64, 1]))\n",
    "fc_b = tf.Variable(tf.zeros([1, 1]))\n",
    "\n",
    "fc = tf.nn.relu(tf.matmul(h_flat, fc_w) + fc_b)"
   ]
  },
  {
   "cell_type": "markdown",
   "metadata": {},
   "source": [
    "**output**\n",
    "![ex7_4](./image/7_4.png)"
   ]
  },
  {
   "cell_type": "code",
   "execution_count": 8,
   "metadata": {},
   "outputs": [],
   "source": [
    " with tf.Session() as sess:\n",
    "    coord = tf.train.Coordinator()\n",
    "    threads = tf.train.start_queue_runners(sess=sess, coord=coord)\n",
    "    \n",
    "    sess.run(tf.global_variables_initializer())\n",
    "    image = sess.run(fc)\n",
    "    \n",
    "    coord.request_stop()\n",
    "    coord.join(threads)"
   ]
  }
 ],
 "metadata": {
  "kernelspec": {
   "display_name": "tensorflow",
   "language": "python3",
   "name": "tensorflow"
  },
  "language_info": {
   "codemirror_mode": {
    "name": "ipython",
    "version": 3
   },
   "file_extension": ".py",
   "mimetype": "text/x-python",
   "name": "python",
   "nbconvert_exporter": "python",
   "pygments_lexer": "ipython3",
   "version": "3.5.2"
  }
 },
 "nbformat": 4,
 "nbformat_minor": 2
}
