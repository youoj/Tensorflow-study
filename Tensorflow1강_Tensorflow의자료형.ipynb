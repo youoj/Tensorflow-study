{
 "cells": [
  {
   "cell_type": "markdown",
   "metadata": {},
   "source": [
    "### **Tensorflow1강 Tensorflow의 자료형***\n",
    "tensorflow의 자료형과 동작 방식을 배운다."
   ]
  },
  {
   "cell_type": "code",
   "execution_count": 1,
   "metadata": {},
   "outputs": [],
   "source": [
    "import tensorflow as tf"
   ]
  },
  {
   "cell_type": "code",
   "execution_count": 2,
   "metadata": {},
   "outputs": [],
   "source": [
    "placeholder = tf.placeholder(dtype=tf.float32, shape=[3,3])\n",
    "Variables = tf.Variable([1, 2, 3, 4, 5], dtype=tf.float32)\n",
    "constant = tf.constant([10, 20, 30, 40, 50], dtype=tf.float32)"
   ]
  },
  {
   "cell_type": "markdown",
   "metadata": {},
   "source": [
    "**placeholder** : 데이터를 저장시키는 공간, tensor랑 mapping시키는 역할, 그래프를 만들지 않는다.  \n",
    "**Variables** : 하나의 객체, weight를 저장할 때 쓴다. 정의할 때 type을 맞춰줘야 error를 줄일 수 있다.  \n",
    "**constant** : 상수, 메소드  \n",
    "constant, Variables, placeholder 그래프가 다르게 그려진다.\n",
    "\n",
    "tensorflow가 돌아갈 때, python level에 대해서는 연산을 허용하지 않는다.(현 상태에서 print(placeholder)를 하게되면 tensor의 형태가 출력된다.)  \n",
    "But, 그래프를 생성하고 Session(그래프 한 덩어리)을 device에 올린다.  \n",
    "Session은 파일이다! 파일 형태로 쓰고 읽는다.  \n",
    "\n",
    "ex) 5 x 4 x 3 x 2 x 1 = ?  \n",
    "![ex1_1](./image/1_1.png)\n",
    "\n",
    "ex) 2(5 + 4) + 3(1 + 2) = ?  \n",
    "![ex1_2](./image/1_2.png)"
   ]
  },
  {
   "cell_type": "markdown",
   "metadata": {},
   "source": [
    "### **const**"
   ]
  },
  {
   "cell_type": "code",
   "execution_count": 3,
   "metadata": {},
   "outputs": [
    {
     "name": "stdout",
     "output_type": "stream",
     "text": [
      "Tensor(\"add:0\", shape=(1,), dtype=int32)\n"
     ]
    }
   ],
   "source": [
    "const1 = tf.constant([5])\n",
    "const2 = tf.constant([3])\n",
    "const3 = tf.constant([2])\n",
    "\n",
    "result_const = const1 * const2 + const3\n",
    "print(result_const)"
   ]
  },
  {
   "cell_type": "code",
   "execution_count": 4,
   "metadata": {},
   "outputs": [
    {
     "name": "stdout",
     "output_type": "stream",
     "text": [
      "[17]\n"
     ]
    }
   ],
   "source": [
    "sess = tf.Session()\n",
    "result = sess.run(result_const)\n",
    "print(result)"
   ]
  },
  {
   "cell_type": "markdown",
   "metadata": {},
   "source": [
    "### **Variable**\n",
    "variable은 반드시 초기화가 필요한 tensor다."
   ]
  },
  {
   "cell_type": "code",
   "execution_count": 5,
   "metadata": {},
   "outputs": [],
   "source": [
    "var1 = tf.Variable([5])\n",
    "var2 = tf.Variable([3])\n",
    "var3 = tf.Variable([2])\n",
    "\n",
    "result_var = var1 * var2 + var3"
   ]
  },
  {
   "cell_type": "code",
   "execution_count": 6,
   "metadata": {},
   "outputs": [
    {
     "name": "stdout",
     "output_type": "stream",
     "text": [
      "[17]\n"
     ]
    }
   ],
   "source": [
    "# error code\n",
    "#sess = tf.Session()\n",
    "#result = sess.run(result_value, feed_dict=feed_dict)\n",
    "#print(result)\n",
    "\n",
    "sess = tf.Session()\n",
    "init = tf.global_variables_initializer()  #tf.initialize_all_variables() 사용시 warnning\n",
    "sess.run(init)\n",
    "result = sess.run(result_var)\n",
    "print(result)"
   ]
  },
  {
   "cell_type": "markdown",
   "metadata": {},
   "source": [
    "### **placeholder**"
   ]
  },
  {
   "cell_type": "code",
   "execution_count": 7,
   "metadata": {},
   "outputs": [],
   "source": [
    "image = [[1, 2, 3, 4, 5],\n",
    "         [5, 4, 3, 2, 1],\n",
    "         [10, 20, 30, 40, 50]]\n",
    "label = [10, 20, 30 ,40 ,50]\n",
    "\n",
    "ph_image = tf.placeholder( dtype=tf.float32 )\n",
    "ph_label = tf.placeholder( dtype=tf.float32 )\n",
    "\n",
    "result_tensor = ph_image + ph_label\n",
    "\n",
    "feed_dict = {ph_image:image, ph_label:label}  # tensor랑 mapping시키는 부분. Session() 전에만 해주면 된다."
   ]
  },
  {
   "cell_type": "code",
   "execution_count": 8,
   "metadata": {},
   "outputs": [
    {
     "name": "stdout",
     "output_type": "stream",
     "text": [
      "[[ 11.  22.  33.  44.  55.]\n",
      " [ 15.  24.  33.  42.  51.]\n",
      " [ 20.  40.  60.  80. 100.]]\n"
     ]
    }
   ],
   "source": [
    "sess = tf.Session()  # sessiond이 열림\n",
    "result = sess.run(result_tensor, feed_dict=feed_dict)  # 그래프가 만들어진다\n",
    "print(result)"
   ]
  }
 ],
 "metadata": {
  "kernelspec": {
   "display_name": "tensorflow",
   "language": "python3",
   "name": "tensorflow"
  },
  "language_info": {
   "codemirror_mode": {
    "name": "ipython",
    "version": 3
   },
   "file_extension": ".py",
   "mimetype": "text/x-python",
   "name": "python",
   "nbconvert_exporter": "python",
   "pygments_lexer": "ipython3",
   "version": "3.5.2"
  }
 },
 "nbformat": 4,
 "nbformat_minor": 2
}
