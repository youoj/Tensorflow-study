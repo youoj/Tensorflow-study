{
 "cells": [
  {
   "cell_type": "markdown",
   "metadata": {},
   "source": [
    "### **Tensorflow4강 Model Restore**\n",
    "\n",
    "training시킨다는 것은 함수를 만드는 과정이다.\n",
    "\n",
    "drop out은 트레이닝의 속도, 최적화되는 weight의 범위를 넓히기 위함이다.\n",
    "\n",
    "**batch normalization**\n",
    "![ex4_1](./image/4_1.png)\n",
    "학습을 할 때, sigmooid의 역함수(기울기)가 계속 곱해지는데, 기울기가 0과 비슷한 지점으로 가까워 지면 결국 w = w - 0 이랑 같은 소리다.   \n",
    "기울기가 존재하는 부분에 위치하기 위해 보정을 해주는 단계가 **batch normalization** 이다.   \n",
    "training이 되지않는다!를 해결하는 방법\n",
    "\n",
    "**regularization**\n",
    "![ex4_2](./image/4_2.png)\n",
    "overfitting을 막기 위해서 람다를 조절해주는 방법이다.   \n",
    "training이 잘 되지 않는다!를 해결하는 방법"
   ]
  },
  {
   "cell_type": "code",
   "execution_count": 1,
   "metadata": {
    "scrolled": true
   },
   "outputs": [],
   "source": [
    "import tensorflow as tf"
   ]
  },
  {
   "cell_type": "code",
   "execution_count": 2,
   "metadata": {},
   "outputs": [],
   "source": [
    "input_data = [[1, 5, 3, 7, 8, 10, 12],\n",
    "              [5, 8, 10, 3, 9, 7, 1]]\n",
    "label_data = [[0, 0, 0, 1, 0],\n",
    "              [1, 0, 0, 0, 0]]"
   ]
  },
  {
   "cell_type": "code",
   "execution_count": 3,
   "metadata": {},
   "outputs": [],
   "source": [
    "INPUT_SIZE = 7\n",
    "HIDDEN1_SIZE = 10\n",
    "HIDDEN2_SIZE = 8\n",
    "CLASSES = 5\n",
    "Learning_Rate = 0.5"
   ]
  },
  {
   "cell_type": "code",
   "execution_count": 4,
   "metadata": {},
   "outputs": [],
   "source": [
    "x = tf.placeholder( tf.float32, shape=[None, INPUT_SIZE], name='x')\n",
    "y_ = tf.placeholder( tf.float32, shape=[None, CLASSES], name='y_')"
   ]
  },
  {
   "cell_type": "code",
   "execution_count": 5,
   "metadata": {},
   "outputs": [],
   "source": [
    "tensor_map = {x:input_data, y_:label_data}"
   ]
  },
  {
   "cell_type": "code",
   "execution_count": 6,
   "metadata": {},
   "outputs": [],
   "source": [
    "w_h1 = tf.Variable(tf.truncated_normal(shape=[INPUT_SIZE, HIDDEN1_SIZE]), name='w_h1')\n",
    "b_h1 = tf.Variable(tf.zeros([HIDDEN1_SIZE]), dtype=tf.float32, name='b_h1')\n",
    "\n",
    "w_h2 = tf.Variable(tf.truncated_normal(shape=[HIDDEN1_SIZE, HIDDEN2_SIZE]), name='w_h2')\n",
    "b_h2 = tf.Variable(tf.zeros([HIDDEN2_SIZE]), dtype=tf.float32, name='b_h2')\n",
    "\n",
    "w_o = tf.Variable(tf.truncated_normal(shape=[HIDDEN2_SIZE, CLASSES]), name='w_o')\n",
    "b_o = tf.Variable(tf.zeros([CLASSES]), dtype=tf.float32, name='b_o')"
   ]
  },
  {
   "cell_type": "code",
   "execution_count": 7,
   "metadata": {},
   "outputs": [],
   "source": [
    "param_list = [w_h1, b_h1, w_h2, b_h2, w_o, b_o]\n",
    "saver = tf.train.Saver(param_list)"
   ]
  },
  {
   "cell_type": "code",
   "execution_count": 8,
   "metadata": {},
   "outputs": [],
   "source": [
    "hidden1 = tf.sigmoid(tf.matmul(x, w_h1) + b_h1, name='hidden1')\n",
    "hidden2 = tf.sigmoid(tf.matmul(hidden1, w_h2) + b_h2, name='hieen2')\n",
    "y = tf.sigmoid(tf.matmul(hidden2, w_o) + b_o, name='y')"
   ]
  },
  {
   "cell_type": "code",
   "execution_count": 9,
   "metadata": {},
   "outputs": [],
   "source": [
    "sess = tf.Session()"
   ]
  },
  {
   "cell_type": "code",
   "execution_count": 10,
   "metadata": {},
   "outputs": [
    {
     "name": "stdout",
     "output_type": "stream",
     "text": [
      "INFO:tensorflow:Restoring parameters from ./checkpoint/my_model.ckpt\n",
      "[[0.01343621 0.0040397  0.00262886 0.98461354 0.00354611]\n",
      " [0.98818123 0.00143028 0.00281574 0.01243097 0.00199468]]\n"
     ]
    }
   ],
   "source": [
    "saver.restore(sess, \"./checkpoint/my_model.ckpt\")\n",
    "result = sess.run(y, tensor_map)\n",
    "print(result)"
   ]
  },
  {
   "cell_type": "markdown",
   "metadata": {},
   "source": [
    "initialization을 check point로 하게되면 이미 학습된 데이터를 다시 학습시킬 수 있다."
   ]
  },
  {
   "cell_type": "code",
   "execution_count": 11,
   "metadata": {},
   "outputs": [
    {
     "name": "stdout",
     "output_type": "stream",
     "text": [
      "INFO:tensorflow:Restoring parameters from ./checkpoint/my_model.ckpt\n",
      "----------------------------\n",
      "step :  0\n",
      "loss :  0.034955837\n",
      "accuarcy :  1.0\n",
      "result :  [[0.01343621 0.0040397  0.00262886 0.98461354 0.00354611]\n",
      " [0.98818123 0.00143028 0.00281574 0.01243097 0.00199468]]\n",
      "----------------------------\n",
      "step :  10\n",
      "loss :  0.032737054\n",
      "accuarcy :  1.0\n",
      "result :  [[0.01343621 0.0040397  0.00262886 0.98461354 0.00354611]\n",
      " [0.98818123 0.00143028 0.00281574 0.01243097 0.00199468]]\n",
      "----------------------------\n",
      "step :  20\n",
      "loss :  0.030769277\n",
      "accuarcy :  1.0\n",
      "result :  [[0.01343621 0.0040397  0.00262886 0.98461354 0.00354611]\n",
      " [0.98818123 0.00143028 0.00281574 0.01243097 0.00199468]]\n",
      "----------------------------\n",
      "step :  30\n",
      "loss :  0.02901085\n",
      "accuarcy :  1.0\n",
      "result :  [[0.01343621 0.0040397  0.00262886 0.98461354 0.00354611]\n",
      " [0.98818123 0.00143028 0.00281574 0.01243097 0.00199468]]\n",
      "----------------------------\n",
      "step :  40\n",
      "loss :  0.027430257\n",
      "accuarcy :  1.0\n",
      "result :  [[0.01343621 0.0040397  0.00262886 0.98461354 0.00354611]\n",
      " [0.98818123 0.00143028 0.00281574 0.01243097 0.00199468]]\n",
      "----------------------------\n",
      "step :  50\n",
      "loss :  0.026002828\n",
      "accuarcy :  1.0\n",
      "result :  [[0.01343621 0.0040397  0.00262886 0.98461354 0.00354611]\n",
      " [0.98818123 0.00143028 0.00281574 0.01243097 0.00199468]]\n",
      "----------------------------\n",
      "step :  60\n",
      "loss :  0.02470849\n",
      "accuarcy :  1.0\n",
      "result :  [[0.01343621 0.0040397  0.00262886 0.98461354 0.00354611]\n",
      " [0.98818123 0.00143028 0.00281574 0.01243097 0.00199468]]\n",
      "----------------------------\n",
      "step :  70\n",
      "loss :  0.023530114\n",
      "accuarcy :  1.0\n",
      "result :  [[0.01343621 0.0040397  0.00262886 0.98461354 0.00354611]\n",
      " [0.98818123 0.00143028 0.00281574 0.01243097 0.00199468]]\n",
      "----------------------------\n",
      "step :  80\n",
      "loss :  0.022453576\n",
      "accuarcy :  1.0\n",
      "result :  [[0.01343621 0.0040397  0.00262886 0.98461354 0.00354611]\n",
      " [0.98818123 0.00143028 0.00281574 0.01243097 0.00199468]]\n",
      "----------------------------\n",
      "step :  90\n",
      "loss :  0.021466922\n",
      "accuarcy :  1.0\n",
      "result :  [[0.01343621 0.0040397  0.00262886 0.98461354 0.00354611]\n",
      " [0.98818123 0.00143028 0.00281574 0.01243097 0.00199468]]\n"
     ]
    }
   ],
   "source": [
    "cost = tf.reduce_mean(tf.reduce_sum(-y_*tf.log(y)-(1-y_)*tf.log(1-y), reduction_indices=1))\n",
    "train = tf.train.GradientDescentOptimizer(Learning_Rate).minimize(cost)\n",
    "\n",
    "accuray = tf.reduce_mean(tf.cast(tf.equal(tf.argmax(y, 1), tf.argmax(y_, 1)), tf.float32))\n",
    "\n",
    "saver.restore(sess, \"./checkpoint/my_model.ckpt\")\n",
    "\n",
    "for i in range(100):\n",
    "    _, loss, acc = sess.run([train, cost, accuray], tensor_map)\n",
    "    \n",
    "    if i % 10 == 0:\n",
    "        saver.save(sess, \"./checkpoint/my_model.ckpt\")\n",
    "        print(\"----------------------------\")\n",
    "        print(\"step : \", i)\n",
    "        print(\"loss : \", loss)\n",
    "        print(\"accuarcy : \", acc)\n",
    "        print(\"result : \", result)\n",
    "\n",
    "sess.close()"
   ]
  }
 ],
 "metadata": {
  "kernelspec": {
   "display_name": "tensorflow",
   "language": "python3",
   "name": "tensorflow"
  },
  "language_info": {
   "codemirror_mode": {
    "name": "ipython",
    "version": 3
   },
   "file_extension": ".py",
   "mimetype": "text/x-python",
   "name": "python",
   "nbconvert_exporter": "python",
   "pygments_lexer": "ipython3",
   "version": "3.5.2"
  }
 },
 "nbformat": 4,
 "nbformat_minor": 2
}
